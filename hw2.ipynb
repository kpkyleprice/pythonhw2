{
 "cells": [
  {
   "cell_type": "code",
   "execution_count": 9,
   "id": "a14e74cf",
   "metadata": {},
   "outputs": [
    {
     "name": "stdout",
     "output_type": "stream",
     "text": [
      "1\n",
      "5\n",
      "8\n",
      "9\n",
      "2\n"
     ]
    }
   ],
   "source": [
    "list_1 = [1, 11, 14, 5, 8, 9, 2, 22, 44]\n",
    "\n",
    "def my_list(list):\n",
    "    for num in list:\n",
    "        if num < 10:\n",
    "            print(num)\n",
    "my_list(list_1)"
   ]
  },
  {
   "cell_type": "code",
   "execution_count": 10,
   "id": "5bcff773",
   "metadata": {},
   "outputs": [
    {
     "name": "stdout",
     "output_type": "stream",
     "text": [
      "[1, 2, 3, 3, 4, 4, 5, 5, 6, 6, 7, 8, 9, 10]\n"
     ]
    }
   ],
   "source": [
    "list_1 =[1, 2, 3, 4, 5, 6]\n",
    "list_2 =[3, 4, 5, 6, 7, 8, 9, 10]\n",
    "\n",
    "combined_list = sorted(list_1 + list_2)\n",
    "print(combined_list)"
   ]
  },
  {
   "cell_type": "code",
   "execution_count": 1,
   "id": "62390b17",
   "metadata": {},
   "outputs": [
    {
     "name": "stdout",
     "output_type": "stream",
     "text": [
      "Connor\n",
      "Max\n",
      "Evan\n",
      "Jordan\n"
     ]
    }
   ],
   "source": [
    "names = ['    coNNor', 'max', ' EVan ', 'JORDAN']\n",
    "for name in names:\n",
    "    new_names = name.strip()\n",
    "    \n",
    "    print(new_names.title())"
   ]
  },
  {
   "cell_type": "code",
   "execution_count": 2,
   "id": "11c4128a",
   "metadata": {},
   "outputs": [
    {
     "name": "stdout",
     "output_type": "stream",
     "text": [
      "['connor', 'bob', 'evan', 'max', 2, 3, 4, 'kevin']\n"
     ]
    }
   ],
   "source": [
    "names = ['connor', 'connor', 'bob', 'connor', 'evan', 'max', 'evan', 2, 2, 2, 3, 3, 4, 'bob', 'kevin']\n",
    "\n",
    "names = list(dict.fromkeys(names))\n",
    "print(names)"
   ]
  },
  {
   "cell_type": "code",
   "execution_count": 8,
   "id": "df1fc277",
   "metadata": {},
   "outputs": [
    {
     "name": "stdout",
     "output_type": "stream",
     "text": [
      "John Smith\n",
      "Evan Smith\n",
      "Jordan Williams\n",
      "Max Bell\n"
     ]
    }
   ],
   "source": [
    "first_name = ['John', 'Evan', 'Jordan', 'Max']\n",
    "last_name = ['Smith', 'Smith', 'Williams', 'Bell']\n",
    "\n",
    "def combine(first_name, last_name):\n",
    "    full_names = []\n",
    "    for first, last in zip(first_name, last_name):\n",
    "        full_name = first + ' ' + last\n",
    "        full_names.append(full_name)\n",
    "    return full_names\n",
    "\n",
    "full_names = combine(first_name, last_name)\n",
    "for name in full_names:\n",
    "    print(name)"
   ]
  },
  {
   "cell_type": "code",
   "execution_count": null,
   "id": "ede747d0",
   "metadata": {},
   "outputs": [],
   "source": []
  }
 ],
 "metadata": {
  "kernelspec": {
   "display_name": "Python 3 (ipykernel)",
   "language": "python",
   "name": "python3"
  },
  "language_info": {
   "codemirror_mode": {
    "name": "ipython",
    "version": 3
   },
   "file_extension": ".py",
   "mimetype": "text/x-python",
   "name": "python",
   "nbconvert_exporter": "python",
   "pygments_lexer": "ipython3",
   "version": "3.11.2"
  }
 },
 "nbformat": 4,
 "nbformat_minor": 5
}
